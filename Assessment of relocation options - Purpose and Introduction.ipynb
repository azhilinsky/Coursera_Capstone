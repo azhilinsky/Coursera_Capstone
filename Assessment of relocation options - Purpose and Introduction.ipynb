{
 "cells": [
  {
   "cell_type": "markdown",
   "metadata": {},
   "source": [
    "### _1. Purpose_\n",
    "This is the final project for IBM Data Science Professional Certificate."
   ]
  },
  {
   "cell_type": "markdown",
   "metadata": {},
   "source": [
    "### _2. Introduction_\n",
    "For my final project I decided to explore the potential options for relocation to Kitchener or Waterloo, Ontario. In the current economic situation in Western Canada some families can look for potential relocation to other provinces. This project mainly inspired by my personal thoughts and I used it as an opportunity to practice what I learned during this course.\n",
    "\n",
    "There are several open resources where people can find information about potential target location, but most of the time it is unstructured and, in many cases, biased information. Some websites based only tourist attractions and reviews; others pulled information from real estate agencies, food chains, etc. When someone decided to conduct a research about particular town or area, in the best case it would take more than a dozen of different search requests. The results might be not as informative as it was anticipated. Eventually it is going to be a question – what is next? Where to look for more information? \n",
    "\n",
    "The purpose of this project is to collect all available open source data, apply data analytics methodologies and provide recommendation based on statistical data. The recommendations would present comparison of options based on rental prices, access to recreational areas, schools, etc. \n",
    "\n",
    "For this project the data was used from the following sources: \\\n",
    "Canada Mortgage and Housing Corporation (CMHC) \\\n",
    "Open Data from City of Kitchener website. \\\n",
    "Foursquare City Guide.\n",
    "\n"
   ]
  },
  {
   "cell_type": "markdown",
   "metadata": {},
   "source": []
  },
  {
   "cell_type": "code",
   "execution_count": null,
   "metadata": {},
   "outputs": [],
   "source": []
  }
 ],
 "metadata": {
  "kernelspec": {
   "display_name": "Python 3",
   "language": "python",
   "name": "python3"
  },
  "language_info": {
   "codemirror_mode": {
    "name": "ipython",
    "version": 3
   },
   "file_extension": ".py",
   "mimetype": "text/x-python",
   "name": "python",
   "nbconvert_exporter": "python",
   "pygments_lexer": "ipython3",
   "version": "3.7.4"
  }
 },
 "nbformat": 4,
 "nbformat_minor": 2
}
