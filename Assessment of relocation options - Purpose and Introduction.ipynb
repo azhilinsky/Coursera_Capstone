{
 "cells": [
  {
   "cell_type": "markdown",
   "metadata": {},
   "source": [
    "# **CAPSTONE PROJECT: BATTLE OF THE NEIGHBORHOODS**\n",
    "---\n",
    "## **Assessment of the Relocation Options**\n",
    "___\n"
   ]
  },
  {
   "cell_type": "markdown",
   "metadata": {},
   "source": [
    "### _Table of Contents_\n",
    "\n",
    "1. [Purpose](#1)<br>\n",
    "2. [Introduction](#2)<br>\n",
    "3. [Data Acquisition](#3) <br>\n",
    "4. [Methodology](#4) <br>\n",
    "5. [Box Plots](#8) <br>\n",
    "6. [Scatter Plots](#10) <br>\n",
    "7. [Bubble Plots](#12) <br> \n",
    "\n",
    "***"
   ]
  },
  {
   "cell_type": "markdown",
   "metadata": {},
   "source": [
    "### _1. PURPOSE_ <a id=\"1\"></a>\n",
    "This is the final project for IBM Data Science Professional Certificate. The main purpose of this project is to apply data science methodologies to analyze available data and provide recommendation for the best option for family relocation.\n",
    "***"
   ]
  },
  {
   "cell_type": "markdown",
   "metadata": {},
   "source": [
    "### _2. INTRODUCTION_ <a id=\"2\"></a>\n",
    "For my final project I decided to explore the potential options for relocation to Kitchener or Waterloo, Ontario. In the current economic situation in Western Canada some families can consider potential relocation to other provinces. This project mainly inspired by my personal thoughts and I used it as an opportunity to practice what I learned during this course.\n",
    "\n",
    "There are several open resources where people can find information about potential target location, but most of the time it is unstructured and, in many cases, biased information. Some websites based only tourist attractions and reviews; others pulled information from real estate agencies, food chains, etc. When someone decided to conduct a research about particular town or area, in the best case it would take more than a dozen of different search requests. The results might be not as informative as it was anticipated. Eventually it is going to be a question – what is next? Where to look for more information? \n",
    "\n",
    "The purpose of this project is to collect all available open source data, apply data analytics methodologies and provide recommendation based on statistical data. The recommendations would present comparison of options based on rental prices, access to recreational areas, schools, etc. \n",
    "\n",
    "For this project the data was used from the following sources: \n",
    "* Canada Mortgage and Housing Corporation (CMHC) \n",
    "* Open Data from City of Kitchener website \n",
    "* Foursquare City Guide \n",
    "* Wikipedia.\n",
    "***"
   ]
  },
  {
   "cell_type": "markdown",
   "metadata": {},
   "source": [
    "### _3. DATA ACQUISITION_ <a id=\"3\"></a>\n",
    "The following data was acquired from public sources:\n",
    "\n",
    "[**Canada Mortgage and Housing Corporation (CMHC)**](https://www03.cmhc-schl.gc.ca/hmip-pimh/en#TableMapChart/0850/3/Kitchener%20-%20Cambridge%20-%20Waterloo) \n",
    "\n",
    "From CMHC retrieved the data containing “Kitchener-Cambridge-Waterloo — Average Rent by Bedroom Type by Zone”. This data would be used to extract average apartment rental prices as of October 2019. \n",
    "\n",
    "[**Kitchener GeoHub**](https://open-kitchenergis.opendata.arcgis.com/) \n",
    "\n",
    "Kitchener GeoHub is part of Waterloo region open data initiative and contain variety of the information. The retrieved shape files and datasets used to generate JavaScript Object Notation (JSON) files for Kitchener and Waterloo with following information: ward numbers, ward boundaries, neighborhoods, addresses, education facilities. To create necessary JSON files the third party software was used - [QGIS](https://qgis.org/en/site/) A Free and Open Source Geographic Information System (c).\n",
    "\n",
    "[**Foursquare City Guide**](https://foursquare.com/) \n",
    "\n",
    "The FourSquare API would be used to explore and retrieve the data containing up to date information about venues and point of interests in Kitchener and Waterloo. The result would be in the form of JSON file and include the following information:\n",
    "* Venue ID\n",
    "* Venue Name\n",
    "* Coordinates : Latitude and Longitude\n",
    "* Category Name\n",
    "\n",
    "[**Wikipedia**](https://en.wikipedia.org/wiki/Kitchener_City_Council)\n",
    "\n",
    "Wikipedia used to retrieve data containing city of Kitchener Ward list and communities included in each Ward. \n",
    "\n",
    "**Note:** For city of Waterloo there is no such information available. For this project the dataset containing similar information in CSV format  was manually created. The data gathered from several websites: \n",
    "* Real estate agents \n",
    "* Wikipedia \n",
    "* City of Waterloo \n",
    "* Google Maps\n",
    "***"
   ]
  },
  {
   "attachments": {},
   "cell_type": "markdown",
   "metadata": {},
   "source": [
    "### _4. METHODOLOGY_ <a id=\"4\"></a>\n",
    "\n",
    "#### _4.1. DATA SELECTION_\n",
    "For the project data used only from open sources. There were two targets selected for this project – Kitchener and Waterloo in Ontario, both cities are connected to each other. The communities/neighborhoods are relatively small with not too many venues in each separate community. The best option to group communities is by using Ward numbers. In average every Ward includes three communities. Total 17 wards (ten in Kitchener and seven in Waterloo).\n",
    "\n",
    "This project requires dataset containing Ward numbers and coordinates of the geographical center of the ward area. This information would be used as a reference point to explore and retrieve data for venues from FourSquare. \n",
    "\n",
    "The “ready-to-go” dataset containing center coordinates was not available and had to be created manually. The best source for required data is Kitchener GeoHub. The website provides various statistical data, maps, dataset, etc., in form of CSV or shape files. The following shape files were created on Kitchener GeoHub: \n",
    "* Addresses – physical address of the buildings in Waterloo area\n",
    "* Ward Boundaries – file containing polygons for every Ward in both cities\n",
    "* Educational Facilities – locations of every educational institution in both cities.\n",
    "\n",
    "These shape files were loaded to QGIS © software to create customized JSON files. For the Ward center file the coordinates of the building in geographical center of the ward area was used. After selecting 17 addresses the JSON file with ward cetner coordinates was generated. For the educational facilities file no cleaning or manual selection were required – shape files were loaded and JSON files generated.\n",
    "\n",
    "![Ward Map](Project_Files/QGIS_map.png)\n",
    "\n",
    "List of communities/neighborhoods was created manually from several sources, such as real estate agencies and Wikipedia. The resulted files were in CSV format and ready to upload to the notebook.\n",
    "\n",
    "The average monthly rental price data was acquired from CMHC website in form of CSV file."
   ]
  },
  {
   "cell_type": "markdown",
   "metadata": {},
   "source": [
    "#### _4.1. DATA CLEANING AND RE-GROUPING_\n",
    "Data was loaded to Jupiter Notebook for further work. Except manually created CSV files all datasets created from JSON files require additional cleaning, grouping and normalization.\n",
    "\n",
    "The table shown below is the final dataset containing Ward unique ID, ward center coordinates and communities list.\n",
    "\n",
    "![Ward List](Project_Files/Ward_List.JPG)\n",
    "    "
   ]
  },
  {
   "attachments": {},
   "cell_type": "markdown",
   "metadata": {},
   "source": [
    "#### _4.2. SEGMENTING AND CLASTERING KITCHENER AND WATERLOO WARDS_\n",
    "\n",
    "After dataset with ward’s information for both cities were prepared the next step was to acquire information related to venues and points of interests in the area. For this task FourSquare was used.\n",
    "\n",
    "The explore function of FourSquare API was utilized to explore and retrieve information about most popular or common venues in communities, such as food courts, shops, restaurants, parks, public transportations, etc. \n",
    "The k-means clustering algorithm utilized to group wards in clusters. The final result containing communities color-coded to corresponding clusters was visualized using Folium library.\n",
    "\n",
    "To retrieve venue information FourSquare API the function **getNearbyVenues** was defined. This function used predefined search radius and coordinates to locate venues and generate file containing the following venue information:\n",
    "* Venue ID\n",
    "* Venue Name\n",
    "* Latitude and Longitude\n",
    "* Category Name\n",
    "\n",
    "This information was extracted from JSON and dataset created. There were total of 238 venues in 96 unique categories retrieved from FourSquare.\n",
    "\n",
    "Venue count by Ward:\n"
   ]
  },
  {
   "cell_type": "code",
   "execution_count": null,
   "metadata": {},
   "outputs": [],
   "source": []
  }
 ],
 "metadata": {
  "kernelspec": {
   "display_name": "Python 3",
   "language": "python",
   "name": "python3"
  },
  "language_info": {
   "codemirror_mode": {
    "name": "ipython",
    "version": 3
   },
   "file_extension": ".py",
   "mimetype": "text/x-python",
   "name": "python",
   "nbconvert_exporter": "python",
   "pygments_lexer": "ipython3",
   "version": "3.7.6"
  }
 },
 "nbformat": 4,
 "nbformat_minor": 2
}
