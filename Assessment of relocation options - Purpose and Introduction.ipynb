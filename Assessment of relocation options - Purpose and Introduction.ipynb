{
 "cells": [
  {
   "cell_type": "markdown",
   "metadata": {},
   "source": [
    "# **CAPSTONE PROJECT: BATTLE OF THE NEIGHBORHOODS**\n",
    "---\n",
    "## **Assessment of the Relocation Options**\n",
    "___\n"
   ]
  },
  {
   "cell_type": "markdown",
   "metadata": {},
   "source": [
    "### _Table of Contents_\n",
    "\n",
    "1. [Purpose](#1)<br>\n",
    "2. [Introduction](#2)<br>\n",
    "3. [Data Acquisition](#3) <br>\n",
    "4. [Methodology](#4) <br>\n",
    "5. [Box Plots](#8) <br>\n",
    "6. [Scatter Plots](#10) <br>\n",
    "7. [Bubble Plots](#12) <br> \n",
    "\n",
    "***"
   ]
  },
  {
   "cell_type": "markdown",
   "metadata": {},
   "source": [
    "### _1. PURPOSE_ <a id=\"1\"></a>\n",
    "This is the final project for IBM Data Science Professional Certificate. The main purpose of this project is to apply data science methodologies to analyze available data and provide recommendation for the best option for family relocation.\n",
    "***"
   ]
  },
  {
   "cell_type": "markdown",
   "metadata": {},
   "source": [
    "### _2. INTRODUCTION_ <a id=\"2\"></a>\n",
    "For my final project I decided to explore the potential options for relocation to Kitchener or Waterloo, Ontario. In the current economic situation in Western Canada some families can consider potential relocation to other provinces. This project mainly inspired by my personal thoughts and I used it as an opportunity to practice what I learned during this course.\n",
    "\n",
    "There are several open resources where people can find information about potential target location, but most of the time it is unstructured and, in many cases, biased information. Some websites based only tourist attractions and reviews; others pulled information from real estate agencies, food chains, etc. When someone decided to conduct a research about particular town or area, in the best case it would take more than a dozen of different search requests. The results might be not as informative as it was anticipated. Eventually it is going to be a question – what is next? Where to look for more information? \n",
    "\n",
    "The purpose of this project is to collect all available open source data, apply data analytics methodologies and provide recommendation based on statistical data. The recommendations would present comparison of options based on rental prices, access to recreational areas, schools, etc. \n",
    "\n",
    "For this project the data was used from the following sources: \n",
    "* Canada Mortgage and Housing Corporation (CMHC) \n",
    "* Open Data from City of Kitchener website \n",
    "* Foursquare City Guide \n",
    "* Wikipedia.\n",
    "***"
   ]
  },
  {
   "cell_type": "markdown",
   "metadata": {},
   "source": [
    "### _3. DATA ACQUISITION_ <a id=\"3\"></a>\n",
    "The following data was acquired from public sources:\n",
    "\n",
    "[**Canada Mortgage and Housing Corporation (CMHC)**](https://www03.cmhc-schl.gc.ca/hmip-pimh/en#TableMapChart/0850/3/Kitchener%20-%20Cambridge%20-%20Waterloo) \n",
    "\n",
    "From CMHC retrieved the data containing “Kitchener-Cambridge-Waterloo — Average Rent by Bedroom Type by Zone”. This data would be used to extract average apartment rental prices as of October 2019. \n",
    "\n",
    "[**Kitchener GeoHub**](https://open-kitchenergis.opendata.arcgis.com/) \n",
    "\n",
    "Kitchener GeoHub is part of Waterloo region open data initiative and contain variety of the information. The retrieved shape files and datasets used to generate JavaScript Object Notation (JSON) files for Kitchener and Waterloo with following information: ward numbers, ward boundaries, neighborhoods, addresses, education facilities. To create necessary JSON files the third party software was used - [QGIS](https://qgis.org/en/site/) A Free and Open Source Geographic Information System (c).\n",
    "\n",
    "[**Foursquare City Guide**](https://foursquare.com/) \n",
    "\n",
    "The FourSquare API would be used to explore and retrieve the data containing up to date information about venues and point of interests in Kitchener and Waterloo. The result would be in the form of JSON file and include the following information:\n",
    "* Venue ID\n",
    "* Venue Name\n",
    "* Coordinates : Latitude and Longitude\n",
    "* Category Name\n",
    "\n",
    "[**Wikipedia**](https://en.wikipedia.org/wiki/Kitchener_City_Council)\n",
    "\n",
    "Wikipedia used to retrieve data containing city of Kitchener Ward list and communities included in each Ward. \n",
    "\n",
    "**Note:** For city of Waterloo there is no such information available. For this project the dataset containing similar information in CSV format  was manually created. The data gathered from several websites: \n",
    "* Real estate agents \n",
    "* Wikipedia \n",
    "* City of Waterloo \n",
    "* Google Maps\n",
    "***"
   ]
  },
  {
   "cell_type": "markdown",
   "metadata": {},
   "source": [
    "### _4. METHODOLOGY_ <a id=\"4\"></a>\n",
    "\n",
    "#### _4.1. DATA SELECTION_\n",
    "For the project data used only from open sources. There were two targets selected for this project – Kitchener and Waterloo in Ontario, both cities are connected to each other. The communities/neighborhoods are relatively small with not too many venues in each separate community. The best option to group communities is by using Ward numbers. In average every Ward includes three communities. Total 17 wards (ten in Kitchener and seven in Waterloo).\n",
    "\n",
    "This project requires dataset containing Ward numbers and coordinates of the geographical center of the ward area. This information would be used as a reference point to explore and retrieve data for venues from FourSquare. \n",
    "\n",
    "The “ready-to-go” dataset containing center coordinates was not available and had to be created manually. The best source for required data is Kitchener GeoHub. The website provides various statistical data, maps, dataset, etc., in form of CSV or shape files. The following shape files were created on Kitchener GeoHub: \n",
    "* Addresses – physical address of the buildings in Waterloo area\n",
    "* Ward Boundaries – file containing polygons for every Ward in both cities\n",
    "* Educational Facilities – locations of every educational institution in both cities.\n",
    "\n",
    "These shape files were loaded to QGIS © software to create customized JSON files. For the Ward center file the coordinates of the building in geographical center of the ward area was used. After selecting 17 addresses the JSON file with ward cetner coordinates was generated. For the educational facilities file no cleaning or manual selection were required – shape files were loaded and JSON files generated.\n",
    "\n",
    "![Ward Map](Project_Files/QGIS_map.png)\n",
    "\n",
    "List of communities/neighborhoods was created manually from several sources, such as real estate agencies and Wikipedia. The resulted files were in CSV format and ready to upload to the notebook.\n",
    "\n",
    "The average monthly rental price data was acquired from CMHC website in form of CSV file."
   ]
  },
  {
   "cell_type": "markdown",
   "metadata": {},
   "source": [
    "#### _4.1. DATA CLEANING AND RE-GROUPING_\n",
    "Data was loaded to Jupiter Notebook for further work. Except manually created CSV files all datasets created from JSON files require additional cleaning, grouping and normalization.\n",
    "\n",
    "The table shown below is the final dataset containing Ward unique ID, ward center coordinates and communities list.\n",
    "\n",
    "![Ward List](Project_Files/Ward_List.JPG)\n",
    "    "
   ]
  },
  {
   "cell_type": "markdown",
   "metadata": {},
   "source": [
    "#### _4.2. SEGMENTING AND CLASTERING KITCHENER AND WATERLOO WARDS_\n",
    "\n",
    "After dataset with ward’s information for both cities were prepared the next step was to acquire information related to venues and points of interests in the area. For this task FourSquare was used.\n",
    "\n",
    "The explore function of FourSquare API was utilized to explore and retrieve information about most popular or common venues in communities, such as food courts, shops, restaurants, parks, public transportations, etc. \n",
    "The k-means clustering algorithm utilized to group wards in clusters. The final result containing communities color-coded to corresponding clusters was visualized using Folium library.\n",
    "\n",
    "To retrieve venue information FourSquare API the function **getNearbyVenues** was defined. This function used predefined search radius and coordinates to locate venues and generate file containing the following venue information:\n",
    "* Venue ID\n",
    "* Venue Name\n",
    "* Latitude and Longitude\n",
    "* Category Name\n",
    "\n",
    "This information was extracted from JSON and dataset created. There were total of 238 venues in 96 unique categories retrieved from FourSquare.\n",
    "\n",
    "Venue count by Ward:\n",
    "\n",
    "![Venues_per_ward](Project_Files/Venues_per_Ward.JPG)\n",
    "\n",
    "To analyze venues located in each Ward the **One Hot Encoding** technique was used. The result was grouped and produced 16 rows (one row for each Ward, excluding Kitchener Ward 3) and 97 columns.\n",
    "\n",
    "The next step was to analyze popularity of the venues and identification of top 10 venues for each Ward in both cities. \n",
    "\n",
    "![Top10_per_ward](Project_Files/Top10_per_ward.JPG)\n",
    "\n",
    "Final step was to cluster results by utilizing **k-means** clustering. After some testing it was decided to proceed with five clusters. The result was merged with communities list for final presentation on the map.\n",
    "\n"
   ]
  },
  {
   "attachments": {},
   "cell_type": "markdown",
   "metadata": {},
   "source": [
    "|\tLatitude\t|\tLongitude\t|\tMunicipality\t|\tWard\t|\tCommunity\t|\tCluster Labels\t|\t1st Most Common Venue\t|\t2nd Most Common Venue\t|\t3rd Most Common Venue\t|\t4th Most Common Venue\t|\t5th Most Common Venue\t|\t6th Most Common Venue\t|\t7th Most Common Venue\t|\t8th Most Common Venue\t|\t9th Most Common Venue\t|\t10th Most Common Venue\t|\n",
    "|\t:--:\t|\t:--:\t|\t:---\t|\t:--:\t|\t:---\t|\t:--:\t|\t:---\t|\t:---\t|\t:---\t|\t:---\t|\t:---\t|\t:---\t|\t:---\t|\t:---\t|\t:---\t|\t:---\t|\n",
    "|\t43.46750655\t|\t-80.45676691\t|\tKitchener\t|\tK01\t|\tBridgeport, RiverRidge, Rosemount, Heritage Park\t|\t1\t|\tFast Food Restaurant\t|\tCoffee Shop\t|\tRestaurant\t|\tConstruction & Landscaping\t|\tClothing Store\t|\tBrewery\t|\tBowling Alley\t|\tRental Car Location\t|\tBeer Store\t|\tPub\t|\n",
    "|\t43.44183516\t|\t-80.42731253\t|\tKitchener\t|\tK02\t|\tStanley Park, Centreville\t|\t1\t|\tPizza Place\t|\tPark\t|\tTrail\t|\tBus Station\t|\tFast Food Restaurant\t|\tConvenience Store\t|\tCosmetics Shop\t|\tDeli / Bodega\t|\tDepartment Store\t|\tDim Sum Restaurant\t|\n",
    "|\t43.38286678\t|\t-80.43175205\t|\tKitchener\t|\tK04\t|\tStrasburg, Doon\t|\t1\t|\tPizza Place\t|\tPharmacy\t|\tPark\t|\tSpa\t|\tDog Run\t|\tConvenience Store\t|\tCosmetics Shop\t|\tDeli / Bodega\t|\tDepartment Store\t|\tDim Sum Restaurant\t|\n",
    "|\t43.38415865\t|\t-80.4921803\t|\tKitchener\t|\tK05\t|\tLaurentian West, Huron Park, Williamsburg\t|\t3\t|\tCoffee Shop\t|\tPark\t|\tBar\t|\tFurniture / Home Store\t|\tYoga Studio\t|\tFast Food Restaurant\t|\tCosmetics Shop\t|\tDeli / Bodega\t|\tDepartment Store\t|\tDim Sum Restaurant\t|\n",
    "|\t43.41523759\t|\t-80.48778382\t|\tKitchener\t|\tK06\t|\tLaurentian Hills, Country Hills, Alpine Village\t|\t1\t|\tConvenience Store\t|\tPark\t|\tFast Food Restaurant\t|\tClothing Store\t|\tBus Station\t|\tDiscount Store\t|\tDog Run\t|\tShopping Mall\t|\tSkating Rink\t|\tPizza Place\t|\n",
    "|\t43.4253858\t|\t-80.54489523\t|\tKitchener\t|\tK07\t|\tForest Heights, Waldau\t|\t1\t|\tCoffee Shop\t|\tGrocery Store\t|\tSupermarket\t|\tPizza Place\t|\tConvenience Store\t|\tRestaurant\t|\tSandwich Place\t|\tBreakfast Spot\t|\tPet Store\t|\tLiquor Store\t|\n",
    "|\t43.43707244\t|\t-80.51932757\t|\tKitchener\t|\tK08\t|\tForest Hills, Victoria Hills\t|\t1\t|\tFast Food Restaurant\t|\tRestaurant\t|\tPizza Place\t|\tGrocery Store\t|\tFood & Drink Shop\t|\tSkating Rink\t|\tGym / Fitness Center\t|\tGas Station\t|\tDiscount Store\t|\tConvenience Store\t|\n",
    "|\t43.44130888\t|\t-80.48855592\t|\tKitchener\t|\tK09\t|\tVictoria Park, Southdale, Cherry Hill, Rockway\t|\t4\t|\tBrewery\t|\tIce Cream Shop\t|\tLatin American Restaurant\t|\tBaseball Field\t|\tBeer Garden\t|\tFrench Restaurant\t|\tDeli / Bodega\t|\tDepartment Store\t|\tDim Sum Restaurant\t|\tDiner\t|\n",
    "|\t43.45767164\t|\t-80.48457583\t|\tKitchener\t|\tK10\t|\tFairfield, Northward, Central Frederick, Auditorium, King East, Eastwood\t|\t1\t|\tTrain Station\t|\tRestaurant\t|\tGym / Fitness Center\t|\tSporting Goods Shop\t|\tConcert Hall\t|\tCoffee Shop\t|\tClothing Store\t|\tChinese Restaurant\t|\tDim Sum Restaurant\t|\tMovie Theater\t|\n",
    "|\t43.44702464\t|\t-80.56254102\t|\tWaterloo\t|\tW01\t|\tBeechwood West, Upper Beechwood, Westvale\t|\t1\t|\tGrocery Store\t|\tPizza Place\t|\tPet Store\t|\tPark\t|\tBank\t|\tDeli / Bodega\t|\tDepartment Store\t|\tYoga Studio\t|\tDog Run\t|\tCosmetics Shop\t|\n",
    "|\t43.46752806\t|\t-80.59171463\t|\tWaterloo\t|\tW02\t|\tClair Creek Meadows, Clair Hills, Erbsville, Laurelwood, Vista Hills\t|\t1\t|\tVideo Game Store\t|\tPark\t|\tAsian Restaurant\t|\tIce Cream Shop\t|\tSupermarket\t|\tPizza Place\t|\tChinese Restaurant\t|\tSandwich Place\t|\tPharmacy\t|\tWings Joint\t|\n",
    "|\t43.49248702\t|\t-80.56311178\t|\tWaterloo\t|\tW03\t|\tLakeshore, Lakeshore North/Conservation Meadows, Parkdale\t|\t2\t|\tPark\t|\tCollege Classroom\t|\tSandwich Place\t|\tYoga Studio\t|\tFast Food Restaurant\t|\tCosmetics Shop\t|\tDeli / Bodega\t|\tDepartment Store\t|\tDim Sum Restaurant\t|\tDiner\t|\n",
    "|\t43.50533723\t|\t-80.51575545\t|\tWaterloo\t|\tW04\t|\tColonial Acres, Rural East Country Squire, Glenridge, Eastbridge\t|\t0\t|\tPizza Place\t|\tPharmacy\t|\tArts & Crafts Store\t|\tIndian Restaurant\t|\tFurniture / Home Store\t|\tMartial Arts Dojo\t|\tFast Food Restaurant\t|\tCosmetics Shop\t|\tDeli / Bodega\t|\tDepartment Store\t|\n",
    "|\t43.48892327\t|\t-80.49853611\t|\tWaterloo\t|\tW05\t|\tLexington and University Downs, Lincoln Heights, Lincoln Village\t|\t1\t|\tPizza Place\t|\tPharmacy\t|\tPet Store\t|\tPark\t|\tCosmetics Shop\t|\tCoffee Shop\t|\tSandwich Place\t|\tChinese Restaurant\t|\tMediterranean Restaurant\t|\tGrocery Store\t|\n",
    "|\t43.47046663\t|\t-80.55186311\t|\tWaterloo\t|\tW06\t|\tBeechwood, Uptown Waterloo North, Maple Hills\t|\t1\t|\tCoffee Shop\t|\tSandwich Place\t|\tJuice Bar\t|\tCafÃ©\t|\tCollege Gym\t|\tOutdoor Sculpture\t|\tBar\t|\tSushi Restaurant\t|\tConvenience Store\t|\tDog Run\t|\n",
    "|\t43.46636455\t|\t-80.52301221\t|\tWaterloo\t|\tW07\t|\tUptown Waterloo South, Westmount\t|\t1\t|\tCafÃ©\t|\tRestaurant\t|\tBar\t|\tCoffee Shop\t|\tPizza Place\t|\tBrewery\t|\tIndie Movie Theater\t|\tGrocery Store\t|\tGastropub\t|\tPub\t|\n"
   ]
  },
  {
   "cell_type": "markdown",
   "metadata": {},
   "source": [
    "![Cluster_map](Project_Files/Cluster_map.JPG)"
   ]
  },
  {
   "attachments": {},
   "cell_type": "markdown",
   "metadata": {},
   "source": [
    "#### _4.3. RENTAL PRICES_\n",
    "\n",
    "The most recent rental prices for apartments in Kitchener and Waterloo were added to this project. It would be additional information for decision making process.\n",
    "\n",
    "|\tMunicipality\t|\tBachelor\t|\t1 Bedroom\t|\t2 Bedroom\t|\t3 Bedroom +\t|\n",
    "|\t:--\t|\t:--:\t|\t:--:\t|\t:--:\t|\t:--:\t|\n",
    "|\tKitchener East\t|\t752 \t|\t974 \t|\t1168 \t|\t1321 \t|\n",
    "|\tKitchener Central\t|\t774 \t|\t959 \t|\t1176 \t|\t1599 \t|\n",
    "|\tKitchener West\t|\t797 \t|\t1044 \t|\t1264 \t|\t1336 \t|\n",
    "|\tWaterloo\t|\t1032 \t|\t1197 \t|\t1354 \t|\t1337 \t|\n",
    "\n",
    "\n",
    "![Rental_prices](Project_Files/Rental_Prices.JPG)"
   ]
  },
  {
   "cell_type": "code",
   "execution_count": null,
   "metadata": {},
   "outputs": [],
   "source": []
  }
 ],
 "metadata": {
  "kernelspec": {
   "display_name": "Python 3",
   "language": "python",
   "name": "python3"
  },
  "language_info": {
   "codemirror_mode": {
    "name": "ipython",
    "version": 3
   },
   "file_extension": ".py",
   "mimetype": "text/x-python",
   "name": "python",
   "nbconvert_exporter": "python",
   "pygments_lexer": "ipython3",
   "version": "3.7.6"
  }
 },
 "nbformat": 4,
 "nbformat_minor": 2
}
