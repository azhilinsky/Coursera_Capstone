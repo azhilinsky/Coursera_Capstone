{
 "cells": [
  {
   "cell_type": "markdown",
   "metadata": {},
   "source": [
    "### _3. Data_\n",
    "\n",
    "The following data was acquired from public sources:\n",
    "\n",
    "3.1. From [Canada Mortgage and Housing Corporation (CMHC)](https://www03.cmhc-schl.gc.ca/hmip-pimh/en#TableMapChart/0850/3/Kitchener%20-%20Cambridge%20-%20Waterloo) retrieved the data containing “Kitchener-Cambridge-Waterloo — Average Rent by Bedroom Type by Zone”. This data would be used to extract average rental prices as of October 2019. \n",
    "\n",
    "3.2. From [City of Kitchener](https://open-kitchenergis.opendata.arcgis.com/) retrieved shape files and datasets used to generate JavaScript Object Notation (JSON) files for Kitchener and Waterloo with following information: ward numbers, ward boundaries, neighborhoods, addresses, education facilities.  \n",
    "\n",
    "3.3. [Foursquare City Guide](https://foursquare.com/) would be used for retrieving data containing up to date information about venues and point of interests in the area. \n"
   ]
  },
  {
   "cell_type": "code",
   "execution_count": null,
   "metadata": {},
   "outputs": [],
   "source": []
  }
 ],
 "metadata": {
  "kernelspec": {
   "display_name": "Python 3",
   "language": "python",
   "name": "python3"
  },
  "language_info": {
   "codemirror_mode": {
    "name": "ipython",
    "version": 3
   },
   "file_extension": ".py",
   "mimetype": "text/x-python",
   "name": "python",
   "nbconvert_exporter": "python",
   "pygments_lexer": "ipython3",
   "version": "3.7.4"
  }
 },
 "nbformat": 4,
 "nbformat_minor": 2
}
